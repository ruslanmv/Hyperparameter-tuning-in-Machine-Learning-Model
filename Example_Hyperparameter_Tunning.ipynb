{
 "cells": [
  {
   "cell_type": "code",
   "execution_count": 24,
   "id": "48284688",
   "metadata": {},
   "outputs": [],
   "source": [
    "from sklearn.model_selection import RandomizedSearchCV\n",
    "from sklearn.model_selection import GridSearchCV\n",
    "from sklearn.model_selection import train_test_split"
   ]
  },
  {
   "cell_type": "code",
   "execution_count": 25,
   "id": "a4bc653f",
   "metadata": {},
   "outputs": [],
   "source": [
    "#from sklearn.grid_search import GridSearchCV\n",
    "from sklearn.svm import SVC\n",
    "import tflearn\n",
    "import tflearn.datasets.mnist as mnist\n"
   ]
  },
  {
   "cell_type": "code",
   "execution_count": 26,
   "id": "c6cef340",
   "metadata": {},
   "outputs": [
    {
     "name": "stdout",
     "output_type": "stream",
     "text": [
      "Downloading MNIST...\n",
      "Succesfully downloaded train-images-idx3-ubyte.gz 9912422 bytes.\n",
      "Extracting mnist/train-images-idx3-ubyte.gz\n",
      "Downloading MNIST...\n",
      "Succesfully downloaded train-labels-idx1-ubyte.gz 28881 bytes.\n",
      "Extracting mnist/train-labels-idx1-ubyte.gz\n",
      "Downloading MNIST...\n",
      "Succesfully downloaded t10k-images-idx3-ubyte.gz 1648877 bytes.\n",
      "Extracting mnist/t10k-images-idx3-ubyte.gz\n",
      "Downloading MNIST...\n",
      "Succesfully downloaded t10k-labels-idx1-ubyte.gz 4542 bytes.\n",
      "Extracting mnist/t10k-labels-idx1-ubyte.gz\n",
      ":0.89\n"
     ]
    }
   ],
   "source": [
    "x_train, y_train, x_test, y_test = mnist.load_data(one_hot=False)\n",
    "#Build the model, select the kernel function and train\n",
    "clf = SVC()\n",
    "clf.set_params(kernel='rbf', probability=True).fit(x_train[:1000,:], y_train[:1000])\n",
    "preds1 = clf.predict(x_test[:1000,:])\n",
    "print(\":\"+str(np.mean(preds1 == y_test[:1000])))"
   ]
  },
  {
   "cell_type": "code",
   "execution_count": 28,
   "id": "abf69001",
   "metadata": {},
   "outputs": [],
   "source": [
    "#Set the parameters to be transformed\n",
    "param_grid = {'C': [0.0001, 0.001, 0.01, 0.1, 1, 10, 100, 1000], 'gamma': [0.001, 0.0001]}    \n"
   ]
  },
  {
   "cell_type": "code",
   "execution_count": 29,
   "id": "5fe5d34f",
   "metadata": {},
   "outputs": [],
   "source": [
    "#Build an automatic parameter tuning container, the n_jobs parameter supports multiple processes running parallel tests at the same time\n",
    "grid_search = GridSearchCV(clf, param_grid, n_jobs = 1, verbose=10)    "
   ]
  },
  {
   "cell_type": "code",
   "execution_count": 30,
   "id": "57ed45f3",
   "metadata": {},
   "outputs": [
    {
     "name": "stdout",
     "output_type": "stream",
     "text": [
      "Fitting 5 folds for each of 16 candidates, totalling 80 fits\n",
      "[CV 1/5; 1/16] START C=0.0001, gamma=0.001......................................\n",
      "[CV 1/5; 1/16] END .......C=0.0001, gamma=0.001;, score=0.115 total time=   1.1s\n",
      "[CV 2/5; 1/16] START C=0.0001, gamma=0.001......................................\n",
      "[CV 2/5; 1/16] END .......C=0.0001, gamma=0.001;, score=0.115 total time=   1.0s\n",
      "[CV 3/5; 1/16] START C=0.0001, gamma=0.001......................................\n",
      "[CV 3/5; 1/16] END .......C=0.0001, gamma=0.001;, score=0.115 total time=   1.0s\n",
      "[CV 4/5; 1/16] START C=0.0001, gamma=0.001......................................\n",
      "[CV 4/5; 1/16] END .......C=0.0001, gamma=0.001;, score=0.115 total time=   1.1s\n",
      "[CV 5/5; 1/16] START C=0.0001, gamma=0.001......................................\n",
      "[CV 5/5; 1/16] END .......C=0.0001, gamma=0.001;, score=0.115 total time=   1.1s\n",
      "[CV 1/5; 2/16] START C=0.0001, gamma=0.0001.....................................\n",
      "[CV 1/5; 2/16] END ......C=0.0001, gamma=0.0001;, score=0.115 total time=   1.1s\n",
      "[CV 2/5; 2/16] START C=0.0001, gamma=0.0001.....................................\n",
      "[CV 2/5; 2/16] END ......C=0.0001, gamma=0.0001;, score=0.115 total time=   1.1s\n",
      "[CV 3/5; 2/16] START C=0.0001, gamma=0.0001.....................................\n",
      "[CV 3/5; 2/16] END ......C=0.0001, gamma=0.0001;, score=0.115 total time=   1.2s\n",
      "[CV 4/5; 2/16] START C=0.0001, gamma=0.0001.....................................\n",
      "[CV 4/5; 2/16] END ......C=0.0001, gamma=0.0001;, score=0.115 total time=   1.1s\n",
      "[CV 5/5; 2/16] START C=0.0001, gamma=0.0001.....................................\n",
      "[CV 5/5; 2/16] END ......C=0.0001, gamma=0.0001;, score=0.115 total time=   1.2s\n",
      "[CV 1/5; 3/16] START C=0.001, gamma=0.001.......................................\n",
      "[CV 1/5; 3/16] END ........C=0.001, gamma=0.001;, score=0.115 total time=   1.0s\n",
      "[CV 2/5; 3/16] START C=0.001, gamma=0.001.......................................\n",
      "[CV 2/5; 3/16] END ........C=0.001, gamma=0.001;, score=0.115 total time=   1.2s\n",
      "[CV 3/5; 3/16] START C=0.001, gamma=0.001.......................................\n",
      "[CV 3/5; 3/16] END ........C=0.001, gamma=0.001;, score=0.115 total time=   1.1s\n",
      "[CV 4/5; 3/16] START C=0.001, gamma=0.001.......................................\n",
      "[CV 4/5; 3/16] END ........C=0.001, gamma=0.001;, score=0.115 total time=   1.1s\n",
      "[CV 5/5; 3/16] START C=0.001, gamma=0.001.......................................\n",
      "[CV 5/5; 3/16] END ........C=0.001, gamma=0.001;, score=0.115 total time=   1.2s\n",
      "[CV 1/5; 4/16] START C=0.001, gamma=0.0001......................................\n",
      "[CV 1/5; 4/16] END .......C=0.001, gamma=0.0001;, score=0.115 total time=   1.1s\n",
      "[CV 2/5; 4/16] START C=0.001, gamma=0.0001......................................\n",
      "[CV 2/5; 4/16] END .......C=0.001, gamma=0.0001;, score=0.115 total time=   1.1s\n",
      "[CV 3/5; 4/16] START C=0.001, gamma=0.0001......................................\n",
      "[CV 3/5; 4/16] END .......C=0.001, gamma=0.0001;, score=0.115 total time=   1.2s\n",
      "[CV 4/5; 4/16] START C=0.001, gamma=0.0001......................................\n",
      "[CV 4/5; 4/16] END .......C=0.001, gamma=0.0001;, score=0.115 total time=   1.1s\n",
      "[CV 5/5; 4/16] START C=0.001, gamma=0.0001......................................\n",
      "[CV 5/5; 4/16] END .......C=0.001, gamma=0.0001;, score=0.115 total time=   1.2s\n",
      "[CV 1/5; 5/16] START C=0.01, gamma=0.001........................................\n",
      "[CV 1/5; 5/16] END .........C=0.01, gamma=0.001;, score=0.115 total time=   1.1s\n",
      "[CV 2/5; 5/16] START C=0.01, gamma=0.001........................................\n",
      "[CV 2/5; 5/16] END .........C=0.01, gamma=0.001;, score=0.115 total time=   1.2s\n",
      "[CV 3/5; 5/16] START C=0.01, gamma=0.001........................................\n",
      "[CV 3/5; 5/16] END .........C=0.01, gamma=0.001;, score=0.115 total time=   1.1s\n",
      "[CV 4/5; 5/16] START C=0.01, gamma=0.001........................................\n",
      "[CV 4/5; 5/16] END .........C=0.01, gamma=0.001;, score=0.115 total time=   1.2s\n",
      "[CV 5/5; 5/16] START C=0.01, gamma=0.001........................................\n",
      "[CV 5/5; 5/16] END .........C=0.01, gamma=0.001;, score=0.115 total time=   1.1s\n",
      "[CV 1/5; 6/16] START C=0.01, gamma=0.0001.......................................\n",
      "[CV 1/5; 6/16] END ........C=0.01, gamma=0.0001;, score=0.115 total time=   1.2s\n",
      "[CV 2/5; 6/16] START C=0.01, gamma=0.0001.......................................\n",
      "[CV 2/5; 6/16] END ........C=0.01, gamma=0.0001;, score=0.115 total time=   1.2s\n",
      "[CV 3/5; 6/16] START C=0.01, gamma=0.0001.......................................\n",
      "[CV 3/5; 6/16] END ........C=0.01, gamma=0.0001;, score=0.115 total time=   1.1s\n",
      "[CV 4/5; 6/16] START C=0.01, gamma=0.0001.......................................\n",
      "[CV 4/5; 6/16] END ........C=0.01, gamma=0.0001;, score=0.115 total time=   1.2s\n",
      "[CV 5/5; 6/16] START C=0.01, gamma=0.0001.......................................\n",
      "[CV 5/5; 6/16] END ........C=0.01, gamma=0.0001;, score=0.115 total time=   1.1s\n",
      "[CV 1/5; 7/16] START C=0.1, gamma=0.001.........................................\n",
      "[CV 1/5; 7/16] END ..........C=0.1, gamma=0.001;, score=0.115 total time=   1.2s\n",
      "[CV 2/5; 7/16] START C=0.1, gamma=0.001.........................................\n",
      "[CV 2/5; 7/16] END ..........C=0.1, gamma=0.001;, score=0.115 total time=   1.1s\n",
      "[CV 3/5; 7/16] START C=0.1, gamma=0.001.........................................\n",
      "[CV 3/5; 7/16] END ..........C=0.1, gamma=0.001;, score=0.115 total time=   1.1s\n",
      "[CV 4/5; 7/16] START C=0.1, gamma=0.001.........................................\n",
      "[CV 4/5; 7/16] END ..........C=0.1, gamma=0.001;, score=0.115 total time=   1.1s\n",
      "[CV 5/5; 7/16] START C=0.1, gamma=0.001.........................................\n",
      "[CV 5/5; 7/16] END ..........C=0.1, gamma=0.001;, score=0.115 total time=   1.1s\n",
      "[CV 1/5; 8/16] START C=0.1, gamma=0.0001........................................\n",
      "[CV 1/5; 8/16] END .........C=0.1, gamma=0.0001;, score=0.115 total time=   1.1s\n",
      "[CV 2/5; 8/16] START C=0.1, gamma=0.0001........................................\n",
      "[CV 2/5; 8/16] END .........C=0.1, gamma=0.0001;, score=0.115 total time=   1.1s\n",
      "[CV 3/5; 8/16] START C=0.1, gamma=0.0001........................................\n",
      "[CV 3/5; 8/16] END .........C=0.1, gamma=0.0001;, score=0.115 total time=   1.1s\n",
      "[CV 4/5; 8/16] START C=0.1, gamma=0.0001........................................\n",
      "[CV 4/5; 8/16] END .........C=0.1, gamma=0.0001;, score=0.115 total time=   1.1s\n",
      "[CV 5/5; 8/16] START C=0.1, gamma=0.0001........................................\n",
      "[CV 5/5; 8/16] END .........C=0.1, gamma=0.0001;, score=0.115 total time=   1.1s\n",
      "[CV 1/5; 9/16] START C=1, gamma=0.001...........................................\n",
      "[CV 1/5; 9/16] END ............C=1, gamma=0.001;, score=0.795 total time=   0.8s\n",
      "[CV 2/5; 9/16] START C=1, gamma=0.001...........................................\n",
      "[CV 2/5; 9/16] END ............C=1, gamma=0.001;, score=0.795 total time=   0.8s\n",
      "[CV 3/5; 9/16] START C=1, gamma=0.001...........................................\n",
      "[CV 3/5; 9/16] END ............C=1, gamma=0.001;, score=0.830 total time=   0.9s\n",
      "[CV 4/5; 9/16] START C=1, gamma=0.001...........................................\n",
      "[CV 4/5; 9/16] END ............C=1, gamma=0.001;, score=0.815 total time=   0.8s\n",
      "[CV 5/5; 9/16] START C=1, gamma=0.001...........................................\n",
      "[CV 5/5; 9/16] END ............C=1, gamma=0.001;, score=0.850 total time=   0.8s\n",
      "[CV 1/5; 10/16] START C=1, gamma=0.0001.........................................\n",
      "[CV 1/5; 10/16] END ..........C=1, gamma=0.0001;, score=0.115 total time=   1.1s\n",
      "[CV 2/5; 10/16] START C=1, gamma=0.0001.........................................\n",
      "[CV 2/5; 10/16] END ..........C=1, gamma=0.0001;, score=0.120 total time=   1.1s\n",
      "[CV 3/5; 10/16] START C=1, gamma=0.0001.........................................\n",
      "[CV 3/5; 10/16] END ..........C=1, gamma=0.0001;, score=0.125 total time=   1.1s\n",
      "[CV 4/5; 10/16] START C=1, gamma=0.0001.........................................\n",
      "[CV 4/5; 10/16] END ..........C=1, gamma=0.0001;, score=0.115 total time=   1.2s\n",
      "[CV 5/5; 10/16] START C=1, gamma=0.0001.........................................\n",
      "[CV 5/5; 10/16] END ..........C=1, gamma=0.0001;, score=0.115 total time=   1.1s\n",
      "[CV 1/5; 11/16] START C=10, gamma=0.001.........................................\n"
     ]
    },
    {
     "name": "stdout",
     "output_type": "stream",
     "text": [
      "[CV 1/5; 11/16] END ..........C=10, gamma=0.001;, score=0.860 total time=   0.4s\n",
      "[CV 2/5; 11/16] START C=10, gamma=0.001.........................................\n",
      "[CV 2/5; 11/16] END ..........C=10, gamma=0.001;, score=0.880 total time=   0.4s\n",
      "[CV 3/5; 11/16] START C=10, gamma=0.001.........................................\n",
      "[CV 3/5; 11/16] END ..........C=10, gamma=0.001;, score=0.910 total time=   0.4s\n",
      "[CV 4/5; 11/16] START C=10, gamma=0.001.........................................\n",
      "[CV 4/5; 11/16] END ..........C=10, gamma=0.001;, score=0.890 total time=   0.4s\n",
      "[CV 5/5; 11/16] START C=10, gamma=0.001.........................................\n",
      "[CV 5/5; 11/16] END ..........C=10, gamma=0.001;, score=0.910 total time=   0.4s\n",
      "[CV 1/5; 12/16] START C=10, gamma=0.0001........................................\n",
      "[CV 1/5; 12/16] END .........C=10, gamma=0.0001;, score=0.795 total time=   0.8s\n",
      "[CV 2/5; 12/16] START C=10, gamma=0.0001........................................\n",
      "[CV 2/5; 12/16] END .........C=10, gamma=0.0001;, score=0.805 total time=   0.8s\n",
      "[CV 3/5; 12/16] START C=10, gamma=0.0001........................................\n",
      "[CV 3/5; 12/16] END .........C=10, gamma=0.0001;, score=0.835 total time=   0.8s\n",
      "[CV 4/5; 12/16] START C=10, gamma=0.0001........................................\n",
      "[CV 4/5; 12/16] END .........C=10, gamma=0.0001;, score=0.820 total time=   0.8s\n",
      "[CV 5/5; 12/16] START C=10, gamma=0.0001........................................\n",
      "[CV 5/5; 12/16] END .........C=10, gamma=0.0001;, score=0.850 total time=   0.9s\n",
      "[CV 1/5; 13/16] START C=100, gamma=0.001........................................\n",
      "[CV 1/5; 13/16] END .........C=100, gamma=0.001;, score=0.855 total time=   0.4s\n",
      "[CV 2/5; 13/16] START C=100, gamma=0.001........................................\n",
      "[CV 2/5; 13/16] END .........C=100, gamma=0.001;, score=0.905 total time=   0.4s\n",
      "[CV 3/5; 13/16] START C=100, gamma=0.001........................................\n",
      "[CV 3/5; 13/16] END .........C=100, gamma=0.001;, score=0.925 total time=   0.4s\n",
      "[CV 4/5; 13/16] START C=100, gamma=0.001........................................\n",
      "[CV 4/5; 13/16] END .........C=100, gamma=0.001;, score=0.880 total time=   0.3s\n",
      "[CV 5/5; 13/16] START C=100, gamma=0.001........................................\n",
      "[CV 5/5; 13/16] END .........C=100, gamma=0.001;, score=0.915 total time=   0.3s\n",
      "[CV 1/5; 14/16] START C=100, gamma=0.0001.......................................\n",
      "[CV 1/5; 14/16] END ........C=100, gamma=0.0001;, score=0.855 total time=   0.4s\n",
      "[CV 2/5; 14/16] START C=100, gamma=0.0001.......................................\n",
      "[CV 2/5; 14/16] END ........C=100, gamma=0.0001;, score=0.880 total time=   0.4s\n",
      "[CV 3/5; 14/16] START C=100, gamma=0.0001.......................................\n",
      "[CV 3/5; 14/16] END ........C=100, gamma=0.0001;, score=0.910 total time=   0.4s\n",
      "[CV 4/5; 14/16] START C=100, gamma=0.0001.......................................\n",
      "[CV 4/5; 14/16] END ........C=100, gamma=0.0001;, score=0.885 total time=   0.4s\n",
      "[CV 5/5; 14/16] START C=100, gamma=0.0001.......................................\n",
      "[CV 5/5; 14/16] END ........C=100, gamma=0.0001;, score=0.905 total time=   0.4s\n",
      "[CV 1/5; 15/16] START C=1000, gamma=0.001.......................................\n",
      "[CV 1/5; 15/16] END ........C=1000, gamma=0.001;, score=0.850 total time=   0.3s\n",
      "[CV 2/5; 15/16] START C=1000, gamma=0.001.......................................\n",
      "[CV 2/5; 15/16] END ........C=1000, gamma=0.001;, score=0.905 total time=   0.3s\n",
      "[CV 3/5; 15/16] START C=1000, gamma=0.001.......................................\n",
      "[CV 3/5; 15/16] END ........C=1000, gamma=0.001;, score=0.925 total time=   0.3s\n",
      "[CV 4/5; 15/16] START C=1000, gamma=0.001.......................................\n",
      "[CV 4/5; 15/16] END ........C=1000, gamma=0.001;, score=0.880 total time=   0.3s\n",
      "[CV 5/5; 15/16] START C=1000, gamma=0.001.......................................\n",
      "[CV 5/5; 15/16] END ........C=1000, gamma=0.001;, score=0.920 total time=   0.3s\n",
      "[CV 1/5; 16/16] START C=1000, gamma=0.0001......................................\n",
      "[CV 1/5; 16/16] END .......C=1000, gamma=0.0001;, score=0.840 total time=   0.4s\n",
      "[CV 2/5; 16/16] START C=1000, gamma=0.0001......................................\n",
      "[CV 2/5; 16/16] END .......C=1000, gamma=0.0001;, score=0.905 total time=   0.4s\n",
      "[CV 3/5; 16/16] START C=1000, gamma=0.0001......................................\n",
      "[CV 3/5; 16/16] END .......C=1000, gamma=0.0001;, score=0.925 total time=   0.4s\n",
      "[CV 4/5; 16/16] START C=1000, gamma=0.0001......................................\n",
      "[CV 4/5; 16/16] END .......C=1000, gamma=0.0001;, score=0.860 total time=   0.3s\n",
      "[CV 5/5; 16/16] START C=1000, gamma=0.0001......................................\n",
      "[CV 5/5; 16/16] END .......C=1000, gamma=0.0001;, score=0.910 total time=   0.3s\n"
     ]
    },
    {
     "data": {
      "text/plain": [
       "GridSearchCV(estimator=SVC(probability=True), n_jobs=1,\n",
       "             param_grid={'C': [0.0001, 0.001, 0.01, 0.1, 1, 10, 100, 1000],\n",
       "                         'gamma': [0.001, 0.0001]},\n",
       "             verbose=10)"
      ]
     },
     "execution_count": 30,
     "metadata": {},
     "output_type": "execute_result"
    }
   ],
   "source": [
    "grid_search.fit(x_train[:1000,:], y_train[:1000])"
   ]
  },
  {
   "cell_type": "code",
   "execution_count": 31,
   "id": "0b689a33",
   "metadata": {},
   "outputs": [
    {
     "name": "stdout",
     "output_type": "stream",
     "text": [
      "C 100\n",
      "break_ties False\n",
      "cache_size 200\n",
      "class_weight None\n",
      "coef0 0.0\n",
      "decision_function_shape ovr\n",
      "degree 3\n",
      "gamma 0.001\n",
      "kernel rbf\n",
      "max_iter -1\n",
      "probability True\n",
      "random_state None\n",
      "shrinking True\n",
      "tol 0.001\n",
      "verbose False\n",
      "0.878\n"
     ]
    }
   ],
   "source": [
    "#Select the best parameters\n",
    "best_parameters = grid_search.best_estimator_.get_params()    \n",
    "for para, val in list(best_parameters.items()):    \n",
    "    print(para, val)\n",
    "#train with optimal parameters\n",
    "clf = SVC(kernel='rbf', C=best_parameters['C'], gamma=best_parameters['gamma'], probability=True).fit(x_train[:1000,:], y_train[:1000])\n",
    "preds1 = clf.predict(x_test[:1000,:])\n",
    "print(\"Optimal test set validation score\"+str(np.mean(preds1 == y_test[:1000])))"
   ]
  },
  {
   "cell_type": "markdown",
   "id": "a599a7c7",
   "metadata": {},
   "source": [
    "Additional References:"
   ]
  },
  {
   "cell_type": "markdown",
   "id": "6bcc4863",
   "metadata": {},
   "source": [
    "https://machinelearningmastery.com/grid-search-hyperparameters-deep-learning-models-python-keras/"
   ]
  },
  {
   "cell_type": "markdown",
   "id": "7edfeba7",
   "metadata": {},
   "source": [
    "https://stackoverflow.com/questions/38968249/cannot-run-tflearn-with-sklearns-gridsearchcv"
   ]
  },
  {
   "cell_type": "code",
   "execution_count": null,
   "id": "4283461b",
   "metadata": {},
   "outputs": [],
   "source": []
  },
  {
   "cell_type": "code",
   "execution_count": null,
   "id": "adc83a66",
   "metadata": {},
   "outputs": [],
   "source": []
  },
  {
   "cell_type": "code",
   "execution_count": null,
   "id": "631efe0b",
   "metadata": {},
   "outputs": [],
   "source": []
  }
 ],
 "metadata": {
  "kernelspec": {
   "display_name": "Python (pygta5)",
   "language": "python",
   "name": "pygta5"
  },
  "language_info": {
   "codemirror_mode": {
    "name": "ipython",
    "version": 3
   },
   "file_extension": ".py",
   "mimetype": "text/x-python",
   "name": "python",
   "nbconvert_exporter": "python",
   "pygments_lexer": "ipython3",
   "version": "3.7.0"
  }
 },
 "nbformat": 4,
 "nbformat_minor": 5
}
